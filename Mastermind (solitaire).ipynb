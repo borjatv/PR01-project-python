{
 "cells": [
  {
   "cell_type": "code",
   "execution_count": 1,
   "metadata": {},
   "outputs": [],
   "source": [
    "import random"
   ]
  },
  {
   "cell_type": "code",
   "execution_count": 2,
   "metadata": {},
   "outputs": [
    {
     "name": "stdout",
     "output_type": "stream",
     "text": [
      "[3, 6, 0, 5]\n"
     ]
    }
   ],
   "source": [
    "# Creamos una lista con dígitos del 0 al 9\n",
    "numberlist = [0,1,2,3,4,5,6,7,8,9]\n",
    "\n",
    "# Barajamos los elementos de la lista y seleccionamos los 4 primeros para coger 4 números del 0 al 9 al azar\n",
    "# sin que se repitan\n",
    "random.shuffle(numberlist)\n",
    "correct = numberlist[0:4]\n",
    "print(correct)"
   ]
  },
  {
   "cell_type": "code",
   "execution_count": 8,
   "metadata": {},
   "outputs": [
    {
     "name": "stdout",
     "output_type": "stream",
     "text": [
      "Introduce tu número de 4 dígitos: r\n",
      "El número introducido no tiene 4 dígitos\n",
      "Introduce un nuevo número, esta vez con 4 dígitos: 123\n",
      "El número introducido no tiene 4 dígitos\n",
      "Introduce un nuevo número, esta vez con 4 dígitos: 1241\n",
      "0 de tus dígitos está/n contenido/s en la respuesta correcta\n",
      "0 de tus dígitos está/n en la respuesta correcta y además en la misma posición\n",
      "Introduce tu número de 4 dígitos: 3605\n",
      "4 de tus dígitos está/n contenido/s en la respuesta correcta\n",
      "4 de tus dígitos está/n en la respuesta correcta y además en la misma posición\n",
      "Enhorabuena, has ganado tras 2 intentos\n"
     ]
    }
   ],
   "source": [
    "# Creamos un bucle while para que siga preguntando números hasta que gane\n",
    "guessed = 0\n",
    "position = 0\n",
    "attempts = 0\n",
    "ans = []\n",
    "error = ['0','1','2','3','4','5','6','7','8','9']\n",
    "\n",
    "while ans != correct:\n",
    "    \n",
    "    answer = input('Introduce tu número de 4 dígitos: ')\n",
    "    attempts += 1\n",
    "    \n",
    "    guessed = 0\n",
    "    position = 0\n",
    "        \n",
    "    # Metemos un while para que siga preguntando en caso de que no metamos 4 dígitos           \n",
    "    while len(answer) != 4:\n",
    "        print('El número introducido no tiene 4 dígitos')\n",
    "        answer = input('Introduce un nuevo número, esta vez con 4 dígitos: ')\n",
    "        \n",
    "    # ¿Cómo hacer para meter en el mismo while otro error si hay caracteres especiales\n",
    "    # for a in answer a not in error\n",
    "    # Pero salga el mensaje de error en función del error que tenga?\n",
    "      \n",
    "    # Introducimos los 4 dígitos convertidos a integer en una lista (de lo contrario, los pasa como strings)\n",
    "    ans = [int(a) for a in answer]\n",
    "    \n",
    "    # Este for evalúa cuántos dígitos están en la respuesta correcta\n",
    "    for a in ans:\n",
    "        if a in correct:\n",
    "            guessed += 1\n",
    "    print(f'{guessed} de tus dígitos está/n contenido/s en la respuesta correcta')\n",
    "    \n",
    "    # Este for evalúa cuántos están además en la misma posición\n",
    "    for x in range(0,4):\n",
    "        if ans[x] == correct[x]:\n",
    "            position += 1\n",
    "    print(f'{position} de tus dígitos está/n en la respuesta correcta y además en la misma posición')\n",
    "    \n",
    "else:\n",
    "    print(f'Enhorabuena, has ganado tras {attempts} intentos')\n",
    "            \n",
    "      \n",
    "    \n",
    "    \n",
    "    \n",
    "    "
   ]
  },
  {
   "cell_type": "code",
   "execution_count": null,
   "metadata": {},
   "outputs": [],
   "source": [
    "x = (str('1431'))\n",
    "y = (str('1431'))\n",
    "guessed = 0\n",
    "for a in range(0,4):\n",
    "    if x[a] == y[a]:\n",
    "        guessed += 1\n",
    "        \n",
    "a = input('Introduce 4 números')\n",
    "print(list(a))"
   ]
  },
  {
   "cell_type": "code",
   "execution_count": null,
   "metadata": {},
   "outputs": [],
   "source": [
    "f = input('Introduce 4 nums')"
   ]
  },
  {
   "cell_type": "code",
   "execution_count": null,
   "metadata": {},
   "outputs": [],
   "source": [
    "f[1] in str(range(0,10))"
   ]
  },
  {
   "cell_type": "code",
   "execution_count": null,
   "metadata": {},
   "outputs": [],
   "source": [
    "a = [int(a) for a in f]\n",
    "print(a)"
   ]
  },
  {
   "cell_type": "code",
   "execution_count": null,
   "metadata": {},
   "outputs": [],
   "source": []
  },
  {
   "cell_type": "code",
   "execution_count": null,
   "metadata": {},
   "outputs": [],
   "source": []
  },
  {
   "cell_type": "code",
   "execution_count": null,
   "metadata": {},
   "outputs": [],
   "source": []
  },
  {
   "cell_type": "code",
   "execution_count": null,
   "metadata": {},
   "outputs": [],
   "source": []
  },
  {
   "cell_type": "code",
   "execution_count": null,
   "metadata": {},
   "outputs": [],
   "source": [
    "class Player():\n",
    "    \"\"\"Define el jugador humano\"\"\"\n",
    "    def __init__(self, nombre=None):\n",
    "        if not nombre:\n",
    "            nombre = input('Dime el nombre: ')\n",
    "        self.nombre = nombre\n",
    "        pass\n",
    "    \n",
    "    def attempt(self, att):\n",
    "        while \n",
    "        "
   ]
  },
  {
   "cell_type": "code",
   "execution_count": null,
   "metadata": {},
   "outputs": [],
   "source": [
    "class Computer()"
   ]
  },
  {
   "cell_type": "code",
   "execution_count": null,
   "metadata": {},
   "outputs": [],
   "source": [
    "#def juego():\n",
    "#    # Preguntamos el nombre del jugador\n",
    "#    \n",
    "#    # Generamos un número entre 1000 y 9999\n",
    "#    ans = random.randrange(1000,9999)\n",
    "#    \n",
    "#    # Creamos un bucle while para que siga preguntando números hasta que alguien gane\n",
    "#    while inpla != ans and incom != ans:\n",
    "#        \n",
    "#        # Mientras no hay ganador, el programa debe ejecutar las funciones para generar una nueva oportunidad\n",
    "#        pla.attempt()\n",
    "#        com.attempt()\n",
    "#    \n",
    "#    # Una vez pase el bucle y se acabe el juego, hacemos un if para determinar el ganador\n",
    "#    if inpla == ans:\n",
    "#        print(f'{pla.name} wins after {platimes} attempts')\n",
    "#    elif incom == ans:\n",
    "#        print(f'Computer wins after {comtimes} attempts')\n",
    "        "
   ]
  },
  {
   "cell_type": "code",
   "execution_count": null,
   "metadata": {},
   "outputs": [],
   "source": []
  },
  {
   "cell_type": "code",
   "execution_count": null,
   "metadata": {},
   "outputs": [],
   "source": []
  },
  {
   "cell_type": "code",
   "execution_count": null,
   "metadata": {},
   "outputs": [],
   "source": []
  },
  {
   "cell_type": "code",
   "execution_count": null,
   "metadata": {},
   "outputs": [],
   "source": []
  },
  {
   "cell_type": "code",
   "execution_count": null,
   "metadata": {},
   "outputs": [],
   "source": []
  },
  {
   "cell_type": "code",
   "execution_count": null,
   "metadata": {},
   "outputs": [],
   "source": []
  },
  {
   "cell_type": "code",
   "execution_count": null,
   "metadata": {},
   "outputs": [],
   "source": []
  },
  {
   "cell_type": "code",
   "execution_count": null,
   "metadata": {},
   "outputs": [],
   "source": []
  },
  {
   "cell_type": "code",
   "execution_count": null,
   "metadata": {},
   "outputs": [],
   "source": []
  },
  {
   "cell_type": "code",
   "execution_count": null,
   "metadata": {},
   "outputs": [],
   "source": []
  },
  {
   "cell_type": "code",
   "execution_count": null,
   "metadata": {},
   "outputs": [],
   "source": []
  },
  {
   "cell_type": "code",
   "execution_count": null,
   "metadata": {},
   "outputs": [],
   "source": []
  },
  {
   "cell_type": "code",
   "execution_count": null,
   "metadata": {},
   "outputs": [],
   "source": []
  }
 ],
 "metadata": {
  "kernelspec": {
   "display_name": "Python 3",
   "language": "python",
   "name": "python3"
  },
  "language_info": {
   "codemirror_mode": {
    "name": "ipython",
    "version": 3
   },
   "file_extension": ".py",
   "mimetype": "text/x-python",
   "name": "python",
   "nbconvert_exporter": "python",
   "pygments_lexer": "ipython3",
   "version": "3.8.5"
  },
  "toc": {
   "base_numbering": 1,
   "nav_menu": {},
   "number_sections": true,
   "sideBar": true,
   "skip_h1_title": false,
   "title_cell": "Table of Contents",
   "title_sidebar": "Contents",
   "toc_cell": false,
   "toc_position": {},
   "toc_section_display": true,
   "toc_window_display": false
  },
  "varInspector": {
   "cols": {
    "lenName": 16,
    "lenType": 16,
    "lenVar": 40
   },
   "kernels_config": {
    "python": {
     "delete_cmd_postfix": "",
     "delete_cmd_prefix": "del ",
     "library": "var_list.py",
     "varRefreshCmd": "print(var_dic_list())"
    },
    "r": {
     "delete_cmd_postfix": ") ",
     "delete_cmd_prefix": "rm(",
     "library": "var_list.r",
     "varRefreshCmd": "cat(var_dic_list()) "
    }
   },
   "types_to_exclude": [
    "module",
    "function",
    "builtin_function_or_method",
    "instance",
    "_Feature"
   ],
   "window_display": false
  }
 },
 "nbformat": 4,
 "nbformat_minor": 4
}

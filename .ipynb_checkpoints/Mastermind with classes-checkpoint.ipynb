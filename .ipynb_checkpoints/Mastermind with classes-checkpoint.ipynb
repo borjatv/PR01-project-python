{
 "cells": [
  {
   "cell_type": "code",
   "execution_count": 6,
   "metadata": {},
   "outputs": [
    {
     "name": "stdout",
     "output_type": "stream",
     "text": [
      "[6, 2, 0, 3]\n"
     ]
    }
   ],
   "source": [
    "import random\n",
    "\n",
    "# Creamos una lista con dígitos del 0 al 9\n",
    "numberlist = [0,1,2,3,4,5,6,7,8,9]\n",
    "\n",
    "# Barajamos los elementos de la lista y seleccionamos los 4 primeros para coger 4 números del 0 al 9 al azar\n",
    "# sin que se repitan\n",
    "random.shuffle(numberlist)\n",
    "correct = numberlist[0:4]\n",
    "print(correct)\n",
    "\n",
    "# Ponemos falsa la variable endgame para que se ejecute mientras nadie gana\n",
    "endgame = False\n",
    "\n",
    "# Ponemos a 0 los intentos del jugador y de la máquina\n",
    "attpla = 0\n",
    "attcom = 0\n",
    "\n",
    "class Player():\n",
    "    \"\"\"Define el jugador humano\"\"\"\n",
    "    def __init__(self, nombre=None):\n",
    "        if not nombre:\n",
    "            nombre = input('Dime el nombre: ')\n",
    "        self.nombre = nombre\n",
    "        self.attpla = 0\n",
    "        pass\n",
    "    \n",
    "    def attempt(self, anspla = None):\n",
    "        \n",
    "        answer = input(f'Hola {self.nombre}. Introduce tu número de 4 dígitos: ')\n",
    "        \n",
    "        # Metemos un while para que siga preguntando en caso de que no metamos 4 dígitos           \n",
    "        while len(answer) != 4 or not answer.isnumeric():\n",
    "            \n",
    "            if not answer.isnumeric():\n",
    "                print('Has introducido algún carácter que no es un número')\n",
    "                answer = input('Introduce un nuevo número de 4 dígitos sin caracteres no numéricos: ')            \n",
    "            \n",
    "            elif len(answer) != 4:\n",
    "                print('El número introducido no tiene 4 dígitos')\n",
    "                answer = input('Introduce un nuevo número, esta vez con 4 dígitos: ')\n",
    "          \n",
    "        # Introducimos los 4 dígitos convertidos a integer en una lista (de lo contrario, los pasa como strings)\n",
    "        self.anspla = [int(a) for a in answer]\n",
    "        \n",
    "        # Sumamos el intento\n",
    "        self.attpla += 1\n",
    "        \n",
    "        return self.anspla\n",
    "        \n",
    "    def evaluate(self):\n",
    "        # Llamamos a la variable global endgame\n",
    "        global endgame\n",
    "        guespla = 0\n",
    "        pospla = 0\n",
    "        \n",
    "        # Este for evalúa cuántos dígitos están en la respuesta correcta\n",
    "        for a in self.anspla:\n",
    "            if a in correct:\n",
    "                guespla += 1\n",
    "        print(f'{guespla} de tus dígitos está/n contenido/s en la respuesta correcta')\n",
    "    \n",
    "        # Este for evalúa cuántos están además en la misma posición\n",
    "        for x in range(0,4):\n",
    "            if self.anspla[x] == correct[x]:\n",
    "                pospla += 1\n",
    "        print(f'{pospla} de tus dígitos está/n en la respuesta correcta y además en la misma posición')\n",
    "        \n",
    "        if self.anspla == correct:\n",
    "            print(f'Enhorabuena, {self.nombre}. Has ganado tras {self.attpla} intentos')\n",
    "            endgame = True\n",
    "\n",
    "class Computer():\n",
    "    \"\"\"Define el jugador virtual\"\"\"\n",
    "    def __init__(self, nombre='Computer'):\n",
    "        self.attcom = 0\n",
    "        pass\n",
    "    \n",
    "    def attempt(self, anscom = None):\n",
    "        \n",
    "        # Generamos el intento de la máquina creando una lista aleatoria con dígitos del 0 al 9 y cogiendo 4 valores\n",
    "        # Igual que al principio del programa.\n",
    "        # Antes lo había hecho con 'global numberlist' pero he creado una lista idéntica para evitar usar global\n",
    "        \n",
    "        numlist = [0,1,2,3,4,5,6,7,8,9]\n",
    "        x = [a for a in numlist]\n",
    "        random.shuffle(x)\n",
    "        self.anscom = x[0:4]\n",
    "        print('Turno para la máquina')\n",
    "        print('Pensando')\n",
    "        print(f'La elección de la máquina es {self.anscom}')\n",
    "              \n",
    "        # Sumamos el intento\n",
    "        self.attcom += 1\n",
    "        \n",
    "        return self.anscom\n",
    "        \n",
    "    def evaluate(self):\n",
    "        # Llamamos a la variable global endgame\n",
    "        global endgame\n",
    "        guescom = 0\n",
    "        poscom = 0\n",
    "        \n",
    "        # Este for evalúa cuántos dígitos están en la respuesta correcta\n",
    "        for a in self.anscom:\n",
    "            if a in correct:\n",
    "                guescom += 1\n",
    "        print(f'{guescom} de los dígitos de la máquina está/n contenido/s en la respuesta correcta')\n",
    "    \n",
    "        # Este for evalúa cuántos están además en la misma posición\n",
    "        for x in range(0,4):\n",
    "            if self.anscom[x] == correct[x]:\n",
    "                poscom += 1\n",
    "        print(f'{poscom} de los dígitos de la máquina está/n en la respuesta correcta y además en la misma posición')\n",
    "        \n",
    "        if self.anscom == correct:\n",
    "            print(f'Lo siento. Ha ganado la máquina tras {self.attcom} intentos')\n",
    "            endgame = True\n",
    "    \n",
    "#    def attemptimproved(self):\n",
    "#        \n",
    "#        Aquí haríamos un programa que generaría una respuesta del ordenador algo mejorada\n",
    "#        \n",
    "#        Ej: si guescom==3, que la nueva selección incluya 3\n",
    "#        Ej2: si poscom==2, que la nueva selección incluya 2 en la misma posición"
   ]
  },
  {
   "cell_type": "code",
   "execution_count": 7,
   "metadata": {},
   "outputs": [
    {
     "name": "stdout",
     "output_type": "stream",
     "text": [
      "Dime el nombre: María\n",
      "Hola María. Introduce tu número de 4 dígitos: 9087\n",
      "1 de tus dígitos está/n contenido/s en la respuesta correcta\n",
      "0 de tus dígitos está/n en la respuesta correcta y además en la misma posición\n",
      "Turno para la máquina\n",
      "Pensando\n",
      "La elección de la máquina es [5, 0, 9, 4]\n",
      "1 de los dígitos de la máquina está/n contenido/s en la respuesta correcta\n",
      "0 de los dígitos de la máquina está/n en la respuesta correcta y además en la misma posición\n",
      "Hola María. Introduce tu número de 4 dígitos: 1234\n",
      "2 de tus dígitos está/n contenido/s en la respuesta correcta\n",
      "1 de tus dígitos está/n en la respuesta correcta y además en la misma posición\n",
      "Turno para la máquina\n",
      "Pensando\n",
      "La elección de la máquina es [8, 0, 1, 6]\n",
      "2 de los dígitos de la máquina está/n contenido/s en la respuesta correcta\n",
      "0 de los dígitos de la máquina está/n en la respuesta correcta y además en la misma posición\n",
      "Hola María. Introduce tu número de 4 dígitos: as\n",
      "Has introducido algún carácter que no es un número\n",
      "Introduce un nuevo número de 4 dígitos sin caracteres no numéricos: 123u\n",
      "Has introducido algún carácter que no es un número\n",
      "Introduce un nuevo número de 4 dígitos sin caracteres no numéricos: 12141\n",
      "El número introducido no tiene 4 dígitos\n",
      "Introduce un nuevo número, esta vez con 4 dígitos: 6203\n",
      "4 de tus dígitos está/n contenido/s en la respuesta correcta\n",
      "4 de tus dígitos está/n en la respuesta correcta y además en la misma posición\n",
      "Enhorabuena, María. Has ganado tras 3 intentos\n"
     ]
    }
   ],
   "source": [
    "a = Player()\n",
    "c = Computer()\n",
    "\n",
    "while endgame == False:\n",
    "    a.attempt()\n",
    "    a.evaluate()\n",
    "    if endgame == False:\n",
    "        c.attempt()\n",
    "        c.evaluate()\n",
    "\n",
    "# Si consiguiéramos crear la función attemptimproved para dotar a la máquina de IA, haríamos un primer intento\n",
    "# a la manera tradicional y después lo haríamos con la nueva función attemptimproved:\n",
    "\n",
    "#a.attempt()\n",
    "#a.evaluate()\n",
    "#if endgame == False:\n",
    "#    c.attempt()\n",
    "#    c.evaluate()\n",
    "#\n",
    "#while endgame == False:\n",
    "#    a.attempt()\n",
    "#    a.evaluate()\n",
    "#    if endgame == False:\n",
    "#        c.attemptimproved()\n",
    "#        c.evaluate()"
   ]
  },
  {
   "cell_type": "code",
   "execution_count": null,
   "metadata": {},
   "outputs": [],
   "source": []
  },
  {
   "cell_type": "code",
   "execution_count": null,
   "metadata": {},
   "outputs": [],
   "source": []
  },
  {
   "cell_type": "code",
   "execution_count": null,
   "metadata": {},
   "outputs": [],
   "source": []
  },
  {
   "cell_type": "code",
   "execution_count": null,
   "metadata": {},
   "outputs": [],
   "source": []
  },
  {
   "cell_type": "code",
   "execution_count": null,
   "metadata": {},
   "outputs": [],
   "source": []
  },
  {
   "cell_type": "code",
   "execution_count": null,
   "metadata": {},
   "outputs": [],
   "source": []
  },
  {
   "cell_type": "code",
   "execution_count": null,
   "metadata": {},
   "outputs": [],
   "source": []
  },
  {
   "cell_type": "code",
   "execution_count": null,
   "metadata": {},
   "outputs": [],
   "source": []
  },
  {
   "cell_type": "code",
   "execution_count": null,
   "metadata": {},
   "outputs": [],
   "source": []
  },
  {
   "cell_type": "code",
   "execution_count": null,
   "metadata": {},
   "outputs": [],
   "source": []
  },
  {
   "cell_type": "code",
   "execution_count": null,
   "metadata": {},
   "outputs": [],
   "source": []
  },
  {
   "cell_type": "code",
   "execution_count": null,
   "metadata": {},
   "outputs": [],
   "source": []
  },
  {
   "cell_type": "code",
   "execution_count": null,
   "metadata": {},
   "outputs": [],
   "source": []
  },
  {
   "cell_type": "code",
   "execution_count": null,
   "metadata": {},
   "outputs": [],
   "source": []
  },
  {
   "cell_type": "code",
   "execution_count": null,
   "metadata": {},
   "outputs": [],
   "source": []
  }
 ],
 "metadata": {
  "kernelspec": {
   "display_name": "Python 3",
   "language": "python",
   "name": "python3"
  },
  "language_info": {
   "codemirror_mode": {
    "name": "ipython",
    "version": 3
   },
   "file_extension": ".py",
   "mimetype": "text/x-python",
   "name": "python",
   "nbconvert_exporter": "python",
   "pygments_lexer": "ipython3",
   "version": "3.8.5"
  },
  "toc": {
   "base_numbering": 1,
   "nav_menu": {},
   "number_sections": true,
   "sideBar": true,
   "skip_h1_title": false,
   "title_cell": "Table of Contents",
   "title_sidebar": "Contents",
   "toc_cell": false,
   "toc_position": {},
   "toc_section_display": true,
   "toc_window_display": false
  },
  "varInspector": {
   "cols": {
    "lenName": 16,
    "lenType": 16,
    "lenVar": 40
   },
   "kernels_config": {
    "python": {
     "delete_cmd_postfix": "",
     "delete_cmd_prefix": "del ",
     "library": "var_list.py",
     "varRefreshCmd": "print(var_dic_list())"
    },
    "r": {
     "delete_cmd_postfix": ") ",
     "delete_cmd_prefix": "rm(",
     "library": "var_list.r",
     "varRefreshCmd": "cat(var_dic_list()) "
    }
   },
   "types_to_exclude": [
    "module",
    "function",
    "builtin_function_or_method",
    "instance",
    "_Feature"
   ],
   "window_display": false
  }
 },
 "nbformat": 4,
 "nbformat_minor": 4
}
